{
 "cells": [
  {
   "cell_type": "code",
   "execution_count": 1,
   "id": "289dfc79",
   "metadata": {},
   "outputs": [
    {
     "name": "stderr",
     "output_type": "stream",
     "text": [
      "d:\\new project\\PD_&_EEG_Analysis\\Parkinson_disease-EEG_Data_Analysis\\env\\Lib\\site-packages\\mne\\datasets\\eegbci\\eegbci.py:8: UserWarning: pkg_resources is deprecated as an API. See https://setuptools.pypa.io/en/latest/pkg_resources.html. The pkg_resources package is slated for removal as early as 2025-11-30. Refrain from using this package or pin to Setuptools<81.\n",
      "  import pkg_resources\n"
     ]
    }
   ],
   "source": [
    "import mne\n",
    "import pandas as pd\n",
    "import numpy as np \n",
    "from sklearn.model_selection import train_test_split\n",
    "from sklearn.preprocessing import StandardScaler\n",
    "from sklearn.metrics import accuracy_score,confusion_matrix,classification_report\n",
    "from sklearn.feature_selection import SelectKBest,f_classif,RFE  \n",
    "from sklearn.svm import SVC \n",
    "import tensorflow as tf\n",
    "from tensorflow.keras.models import Sequential\n",
    "from tensorflow.keras.layers import Dense\n",
    "import matplotlib.pyplot as plt \n",
    "import seaborn as sns \n",
    "from FSRLearning import fsrlearning\n",
    "from pathlib import Path \n",
    "from tqdm import tqdm \n",
    "\n"
   ]
  },
  {
   "cell_type": "markdown",
   "id": "cb483af6",
   "metadata": {},
   "source": [
    "# Load and preprocess EEG data "
   ]
  },
  {
   "cell_type": "code",
   "execution_count": 2,
   "id": "de903411",
   "metadata": {},
   "outputs": [],
   "source": [
    "def load_eeg_data(file_paths,freq_bands):\n",
    "    data = []\n",
    "    for path in tqdm(file_paths,desc=\"Loading EEG data\"):\n",
    "        raw = mne.io.read_raw_eeglab(path,preload=True)\n",
    "        raw.filter(0.5,40)   # Bandpass filter\n",
    "        psd, freqs = mne.time_frequency.psd_welch(raw, fmin=0.5, fmax=40)\n",
    "        band_powers = []\n",
    "        for band in freq_bands:\n",
    "            idx = (freqs >= bnad[0] & freqs <= band[1])\n",
    "            band_power = psd[:, idx].mean(axis=1)\n",
    "            band_powers.append(band_power)\n",
    "        data.append(np.concatenate(band_powers))\n",
    "    return np.array(data)\n",
    "        "
   ]
  },
  {
   "cell_type": "code",
   "execution_count": 3,
   "id": "c554dacd",
   "metadata": {},
   "outputs": [],
   "source": [
    "# Load participants labels\n",
    "def load_labels(participants_file):\n",
    "    df = read_csv(participants_file,sep='\\t')\n",
    "    labels = df['group'].map({'PD':1,'Control':0}).values\n",
    "    return labels\n",
    "\n",
    "# Define frequency bands\n",
    "freq_bands = [\n",
    "    (1,4),  # Delta\n",
    "    (4,8),  # Theta\n",
    "    (8,12), # Alpha\n",
    "    (12,30),# Beta\n",
    "    (30,50), # Low Gamma\n",
    "    (50,100) # High Gamma\n",
    "    ]"
   ]
  },
  {
   "cell_type": "code",
   "execution_count": 4,
   "id": "efdf0855",
   "metadata": {},
   "outputs": [
    {
     "name": "stderr",
     "output_type": "stream",
     "text": [
      "Loading EEG data:   0%|          | 0/149 [00:00<?, ?it/s]"
     ]
    },
    {
     "name": "stderr",
     "output_type": "stream",
     "text": [
      "Loading EEG data:   0%|          | 0/149 [00:00<?, ?it/s]\n"
     ]
    },
    {
     "ename": "RuntimeError",
     "evalue": "For EEGLAB I/O to work, the pymatreader module is needed, but it could not be imported.",
     "output_type": "error",
     "traceback": [
      "\u001b[31m---------------------------------------------------------------------------\u001b[39m",
      "\u001b[31mModuleNotFoundError\u001b[39m                       Traceback (most recent call last)",
      "\u001b[36mFile \u001b[39m\u001b[32md:\\new project\\PD_&_EEG_Analysis\\Parkinson_disease-EEG_Data_Analysis\\env\\Lib\\site-packages\\mne\\utils\\check.py:335\u001b[39m, in \u001b[36m_soft_import\u001b[39m\u001b[34m(name, purpose, strict)\u001b[39m\n\u001b[32m    334\u001b[39m \u001b[38;5;28;01mtry\u001b[39;00m:\n\u001b[32m--> \u001b[39m\u001b[32m335\u001b[39m     mod = \u001b[43mimport_module\u001b[49m\u001b[43m(\u001b[49m\u001b[43mname\u001b[49m\u001b[43m)\u001b[49m\n\u001b[32m    336\u001b[39m     \u001b[38;5;28;01mreturn\u001b[39;00m mod\n",
      "\u001b[36mFile \u001b[39m\u001b[32m~\\anaconda3\\Lib\\importlib\\__init__.py:90\u001b[39m, in \u001b[36mimport_module\u001b[39m\u001b[34m(name, package)\u001b[39m\n\u001b[32m     89\u001b[39m         level += \u001b[32m1\u001b[39m\n\u001b[32m---> \u001b[39m\u001b[32m90\u001b[39m \u001b[38;5;28;01mreturn\u001b[39;00m \u001b[43m_bootstrap\u001b[49m\u001b[43m.\u001b[49m\u001b[43m_gcd_import\u001b[49m\u001b[43m(\u001b[49m\u001b[43mname\u001b[49m\u001b[43m[\u001b[49m\u001b[43mlevel\u001b[49m\u001b[43m:\u001b[49m\u001b[43m]\u001b[49m\u001b[43m,\u001b[49m\u001b[43m \u001b[49m\u001b[43mpackage\u001b[49m\u001b[43m,\u001b[49m\u001b[43m \u001b[49m\u001b[43mlevel\u001b[49m\u001b[43m)\u001b[49m\n",
      "\u001b[36mFile \u001b[39m\u001b[32m<frozen importlib._bootstrap>:1387\u001b[39m, in \u001b[36m_gcd_import\u001b[39m\u001b[34m(name, package, level)\u001b[39m\n",
      "\u001b[36mFile \u001b[39m\u001b[32m<frozen importlib._bootstrap>:1360\u001b[39m, in \u001b[36m_find_and_load\u001b[39m\u001b[34m(name, import_)\u001b[39m\n",
      "\u001b[36mFile \u001b[39m\u001b[32m<frozen importlib._bootstrap>:1324\u001b[39m, in \u001b[36m_find_and_load_unlocked\u001b[39m\u001b[34m(name, import_)\u001b[39m\n",
      "\u001b[31mModuleNotFoundError\u001b[39m: No module named 'pymatreader'",
      "\nDuring handling of the above exception, another exception occurred:\n",
      "\u001b[31mRuntimeError\u001b[39m                              Traceback (most recent call last)",
      "\u001b[36mCell\u001b[39m\u001b[36m \u001b[39m\u001b[32mIn[4]\u001b[39m\u001b[32m, line 3\u001b[39m\n\u001b[32m      1\u001b[39m \u001b[38;5;66;03m# Load data\u001b[39;00m\n\u001b[32m      2\u001b[39m file_paths = \u001b[38;5;28mlist\u001b[39m(Path(\u001b[33m'\u001b[39m\u001b[33mds004584-download\u001b[39m\u001b[33m'\u001b[39m).glob(\u001b[33m'\u001b[39m\u001b[33m**/*.set\u001b[39m\u001b[33m'\u001b[39m))\n\u001b[32m----> \u001b[39m\u001b[32m3\u001b[39m x = \u001b[43mload_eeg_data\u001b[49m\u001b[43m(\u001b[49m\u001b[43mfile_paths\u001b[49m\u001b[43m,\u001b[49m\u001b[43mfreq_bands\u001b[49m\u001b[43m)\u001b[49m\n\u001b[32m      4\u001b[39m y = load_labels(\u001b[33m'\u001b[39m\u001b[33mds004584-download/participants.tsv\u001b[39m\u001b[33m'\u001b[39m)\n\u001b[32m      6\u001b[39m \u001b[38;5;66;03m# Split data\u001b[39;00m\n",
      "\u001b[36mCell\u001b[39m\u001b[36m \u001b[39m\u001b[32mIn[2]\u001b[39m\u001b[32m, line 4\u001b[39m, in \u001b[36mload_eeg_data\u001b[39m\u001b[34m(file_paths, freq_bands)\u001b[39m\n\u001b[32m      2\u001b[39m data = []\n\u001b[32m      3\u001b[39m \u001b[38;5;28;01mfor\u001b[39;00m path \u001b[38;5;129;01min\u001b[39;00m tqdm(file_paths,desc=\u001b[33m\"\u001b[39m\u001b[33mLoading EEG data\u001b[39m\u001b[33m\"\u001b[39m):\n\u001b[32m----> \u001b[39m\u001b[32m4\u001b[39m     raw = \u001b[43mmne\u001b[49m\u001b[43m.\u001b[49m\u001b[43mio\u001b[49m\u001b[43m.\u001b[49m\u001b[43mread_raw_eeglab\u001b[49m\u001b[43m(\u001b[49m\u001b[43mpath\u001b[49m\u001b[43m,\u001b[49m\u001b[43mpreload\u001b[49m\u001b[43m=\u001b[49m\u001b[38;5;28;43;01mTrue\u001b[39;49;00m\u001b[43m)\u001b[49m\n\u001b[32m      5\u001b[39m     raw.filter(\u001b[32m0.5\u001b[39m,\u001b[32m40\u001b[39m)   \u001b[38;5;66;03m# Bandpass filter\u001b[39;00m\n\u001b[32m      6\u001b[39m     psd, freqs = mne.time_frequency.psd_welch(raw, fmin=\u001b[32m0.5\u001b[39m, fmax=\u001b[32m40\u001b[39m)\n",
      "\u001b[36mFile \u001b[39m\u001b[32md:\\new project\\PD_&_EEG_Analysis\\Parkinson_disease-EEG_Data_Analysis\\env\\Lib\\site-packages\\mne\\io\\eeglab\\eeglab.py:248\u001b[39m, in \u001b[36mread_raw_eeglab\u001b[39m\u001b[34m(input_fname, eog, preload, uint16_codec, verbose)\u001b[39m\n\u001b[32m    210\u001b[39m \u001b[38;5;129m@fill_doc\u001b[39m\n\u001b[32m    211\u001b[39m \u001b[38;5;28;01mdef\u001b[39;00m\u001b[38;5;250m \u001b[39m\u001b[34mread_raw_eeglab\u001b[39m(input_fname, eog=(), preload=\u001b[38;5;28;01mFalse\u001b[39;00m,\n\u001b[32m    212\u001b[39m                     uint16_codec=\u001b[38;5;28;01mNone\u001b[39;00m, verbose=\u001b[38;5;28;01mNone\u001b[39;00m):\n\u001b[32m    213\u001b[39m \u001b[38;5;250m    \u001b[39m\u001b[33mr\u001b[39m\u001b[33;03m\"\"\"Read an EEGLAB .set file.\u001b[39;00m\n\u001b[32m    214\u001b[39m \n\u001b[32m    215\u001b[39m \u001b[33;03m    Parameters\u001b[39;00m\n\u001b[32m   (...)\u001b[39m\u001b[32m    246\u001b[39m \u001b[33;03m    .. versionadded:: 0.11.0\u001b[39;00m\n\u001b[32m    247\u001b[39m \u001b[33;03m    \"\"\"\u001b[39;00m\n\u001b[32m--> \u001b[39m\u001b[32m248\u001b[39m     \u001b[38;5;28;01mreturn\u001b[39;00m \u001b[43mRawEEGLAB\u001b[49m\u001b[43m(\u001b[49m\u001b[43minput_fname\u001b[49m\u001b[43m=\u001b[49m\u001b[43minput_fname\u001b[49m\u001b[43m,\u001b[49m\u001b[43m \u001b[49m\u001b[43mpreload\u001b[49m\u001b[43m=\u001b[49m\u001b[43mpreload\u001b[49m\u001b[43m,\u001b[49m\n\u001b[32m    249\u001b[39m \u001b[43m                     \u001b[49m\u001b[43meog\u001b[49m\u001b[43m=\u001b[49m\u001b[43meog\u001b[49m\u001b[43m,\u001b[49m\u001b[43m \u001b[49m\u001b[43mverbose\u001b[49m\u001b[43m=\u001b[49m\u001b[43mverbose\u001b[49m\u001b[43m,\u001b[49m\u001b[43m \u001b[49m\u001b[43muint16_codec\u001b[49m\u001b[43m=\u001b[49m\u001b[43muint16_codec\u001b[49m\u001b[43m)\u001b[49m\n",
      "\u001b[36mFile \u001b[39m\u001b[32m<decorator-gen-273>:12\u001b[39m, in \u001b[36m__init__\u001b[39m\u001b[34m(self, input_fname, eog, preload, uint16_codec, verbose)\u001b[39m\n",
      "\u001b[36mFile \u001b[39m\u001b[32md:\\new project\\PD_&_EEG_Analysis\\Parkinson_disease-EEG_Data_Analysis\\env\\Lib\\site-packages\\mne\\io\\eeglab\\eeglab.py:347\u001b[39m, in \u001b[36mRawEEGLAB.__init__\u001b[39m\u001b[34m(self, input_fname, eog, preload, uint16_codec, verbose)\u001b[39m\n\u001b[32m    343\u001b[39m \u001b[38;5;129m@verbose\u001b[39m\n\u001b[32m    344\u001b[39m \u001b[38;5;28;01mdef\u001b[39;00m\u001b[38;5;250m \u001b[39m\u001b[34m__init__\u001b[39m(\u001b[38;5;28mself\u001b[39m, input_fname, eog=(),\n\u001b[32m    345\u001b[39m              preload=\u001b[38;5;28;01mFalse\u001b[39;00m, uint16_codec=\u001b[38;5;28;01mNone\u001b[39;00m, verbose=\u001b[38;5;28;01mNone\u001b[39;00m):  \u001b[38;5;66;03m# noqa: D102\u001b[39;00m\n\u001b[32m    346\u001b[39m     input_fname = _check_fname(input_fname, \u001b[33m'\u001b[39m\u001b[33mread\u001b[39m\u001b[33m'\u001b[39m, \u001b[38;5;28;01mTrue\u001b[39;00m, \u001b[33m'\u001b[39m\u001b[33minput_fname\u001b[39m\u001b[33m'\u001b[39m)\n\u001b[32m--> \u001b[39m\u001b[32m347\u001b[39m     eeg = \u001b[43m_check_load_mat\u001b[49m\u001b[43m(\u001b[49m\u001b[43minput_fname\u001b[49m\u001b[43m,\u001b[49m\u001b[43m \u001b[49m\u001b[43muint16_codec\u001b[49m\u001b[43m)\u001b[49m\n\u001b[32m    348\u001b[39m     \u001b[38;5;28;01mif\u001b[39;00m eeg.trials != \u001b[32m1\u001b[39m:\n\u001b[32m    349\u001b[39m         \u001b[38;5;28;01mraise\u001b[39;00m \u001b[38;5;167;01mTypeError\u001b[39;00m(\u001b[33m'\u001b[39m\u001b[33mThe number of trials is \u001b[39m\u001b[38;5;132;01m%d\u001b[39;00m\u001b[33m. It must be 1 for raw\u001b[39m\u001b[33m'\u001b[39m\n\u001b[32m    350\u001b[39m                         \u001b[33m'\u001b[39m\u001b[33m files. Please use `mne.io.read_epochs_eeglab` if\u001b[39m\u001b[33m'\u001b[39m\n\u001b[32m    351\u001b[39m                         \u001b[33m'\u001b[39m\u001b[33m the .set file contains epochs.\u001b[39m\u001b[33m'\u001b[39m % eeg.trials)\n",
      "\u001b[36mFile \u001b[39m\u001b[32md:\\new project\\PD_&_EEG_Analysis\\Parkinson_disease-EEG_Data_Analysis\\env\\Lib\\site-packages\\mne\\io\\eeglab\\eeglab.py:60\u001b[39m, in \u001b[36m_check_load_mat\u001b[39m\u001b[34m(fname, uint16_codec)\u001b[39m\n\u001b[32m     58\u001b[39m \u001b[38;5;28;01mdef\u001b[39;00m\u001b[38;5;250m \u001b[39m\u001b[34m_check_load_mat\u001b[39m(fname, uint16_codec):\n\u001b[32m     59\u001b[39m \u001b[38;5;250m    \u001b[39m\u001b[33;03m\"\"\"Check if the mat struct contains 'EEG'.\"\"\"\u001b[39;00m\n\u001b[32m---> \u001b[39m\u001b[32m60\u001b[39m     read_mat = \u001b[43m_import_pymatreader_funcs\u001b[49m\u001b[43m(\u001b[49m\u001b[33;43m'\u001b[39;49m\u001b[33;43mEEGLAB I/O\u001b[39;49m\u001b[33;43m'\u001b[39;49m\u001b[43m)\u001b[49m\n\u001b[32m     61\u001b[39m     eeg = read_mat(fname, uint16_codec=uint16_codec)\n\u001b[32m     62\u001b[39m     \u001b[38;5;28;01mif\u001b[39;00m \u001b[33m'\u001b[39m\u001b[33mALLEEG\u001b[39m\u001b[33m'\u001b[39m \u001b[38;5;129;01min\u001b[39;00m eeg:\n",
      "\u001b[36mFile \u001b[39m\u001b[32md:\\new project\\PD_&_EEG_Analysis\\Parkinson_disease-EEG_Data_Analysis\\env\\Lib\\site-packages\\mne\\utils\\check.py:163\u001b[39m, in \u001b[36m_import_pymatreader_funcs\u001b[39m\u001b[34m(purpose)\u001b[39m\n\u001b[32m    162\u001b[39m \u001b[38;5;28;01mdef\u001b[39;00m\u001b[38;5;250m \u001b[39m\u001b[34m_import_pymatreader_funcs\u001b[39m(purpose):\n\u001b[32m--> \u001b[39m\u001b[32m163\u001b[39m     pymatreader = \u001b[43m_soft_import\u001b[49m\u001b[43m(\u001b[49m\u001b[33;43m'\u001b[39;49m\u001b[33;43mpymatreader\u001b[39;49m\u001b[33;43m'\u001b[39;49m\u001b[43m,\u001b[49m\u001b[43m \u001b[49m\u001b[43mpurpose\u001b[49m\u001b[43m)\u001b[49m\n\u001b[32m    164\u001b[39m     \u001b[38;5;28;01mreturn\u001b[39;00m pymatreader.read_mat\n",
      "\u001b[36mFile \u001b[39m\u001b[32md:\\new project\\PD_&_EEG_Analysis\\Parkinson_disease-EEG_Data_Analysis\\env\\Lib\\site-packages\\mne\\utils\\check.py:339\u001b[39m, in \u001b[36m_soft_import\u001b[39m\u001b[34m(name, purpose, strict)\u001b[39m\n\u001b[32m    337\u001b[39m \u001b[38;5;28;01mexcept\u001b[39;00m (\u001b[38;5;167;01mImportError\u001b[39;00m, \u001b[38;5;167;01mModuleNotFoundError\u001b[39;00m):\n\u001b[32m    338\u001b[39m     \u001b[38;5;28;01mif\u001b[39;00m strict:\n\u001b[32m--> \u001b[39m\u001b[32m339\u001b[39m         \u001b[38;5;28;01mraise\u001b[39;00m \u001b[38;5;167;01mRuntimeError\u001b[39;00m(\u001b[33mf\u001b[39m\u001b[33m'\u001b[39m\u001b[33mFor \u001b[39m\u001b[38;5;132;01m{\u001b[39;00mpurpose\u001b[38;5;132;01m}\u001b[39;00m\u001b[33m to work, the \u001b[39m\u001b[38;5;132;01m{\u001b[39;00mname\u001b[38;5;132;01m}\u001b[39;00m\u001b[33m module is \u001b[39m\u001b[33m'\u001b[39m\n\u001b[32m    340\u001b[39m                            \u001b[33m'\u001b[39m\u001b[33mneeded, but it could not be imported.\u001b[39m\u001b[33m'\u001b[39m)\n\u001b[32m    341\u001b[39m     \u001b[38;5;28;01melse\u001b[39;00m:\n\u001b[32m    342\u001b[39m         \u001b[38;5;28;01mreturn\u001b[39;00m \u001b[38;5;28;01mFalse\u001b[39;00m\n",
      "\u001b[31mRuntimeError\u001b[39m: For EEGLAB I/O to work, the pymatreader module is needed, but it could not be imported."
     ]
    }
   ],
   "source": [
    "# Load data\n",
    "file_paths = list(Path('ds004584-download').glob('**/*.set'))\n",
    "x = load_eeg_data(file_paths,freq_bands)\n",
    "y = load_labels('ds004584-download/participants.tsv')\n",
    "\n",
    "# Split data\n",
    "x_train, x_test,y_train,y_test = train_test_split(x,y,test_size=0.2,random_state=42, stratify=y)\n",
    "\n",
    "# Standardize data\n",
    "scaler = StandardScaler()\n",
    "x_train = scaler.fit_transform(x_train)\n",
    "x_test = scaler.transform(x_test)\n",
    "\n",
    "# Feature selection using fsrlearning\n",
    "fsrl = fsrlearning()\n",
    "selected_features = fsrl.fit(x_train,y_train)\n",
    "x_train_fsrl = x_train[:, selected_features]\n",
    "x_test_fsrl = x_test[:, selected_features]\n",
    "\n",
    "\n"
   ]
  },
  {
   "cell_type": "code",
   "execution_count": null,
   "id": "17b3ee5a",
   "metadata": {},
   "outputs": [],
   "source": []
  }
 ],
 "metadata": {
  "kernelspec": {
   "display_name": "env",
   "language": "python",
   "name": "python3"
  },
  "language_info": {
   "codemirror_mode": {
    "name": "ipython",
    "version": 3
   },
   "file_extension": ".py",
   "mimetype": "text/x-python",
   "name": "python",
   "nbconvert_exporter": "python",
   "pygments_lexer": "ipython3",
   "version": "3.12.7"
  }
 },
 "nbformat": 4,
 "nbformat_minor": 5
}
