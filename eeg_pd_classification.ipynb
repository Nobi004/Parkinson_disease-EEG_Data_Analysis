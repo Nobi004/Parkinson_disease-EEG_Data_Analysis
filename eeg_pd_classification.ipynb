{
 "cells": [
  {
   "cell_type": "code",
   "execution_count": 1,
   "id": "289dfc79",
   "metadata": {},
   "outputs": [],
   "source": [
    "import mne\n",
    "import pandas as pd\n",
    "import numpy as np \n",
    "from sklearn.model_selection import train_test_split\n",
    "from sklearn.preprocessing import StandardScaler\n",
    "from sklearn.metrics import accuracy_score,confusion_matrix,classification_report\n",
    "from sklearn.feature_selection import SelectKBest,f_classif,RFE  \n",
    "from sklearn.svm import SVC \n",
    "import tensorflow as tf\n",
    "from tensorflow.keras.models import Sequential\n",
    "from tensorflow.keras.layers import Dense\n",
    "import matplotlib.pyplot as plt \n",
    "import seaborn as sns \n",
    "from FSRLearning import fsrlearning\n",
    "from pathlib import Path \n",
    "from tqdm import tqdm \n",
    "\n"
   ]
  },
  {
   "cell_type": "markdown",
   "id": "cb483af6",
   "metadata": {},
   "source": [
    "# Load and preprocess EEG data "
   ]
  },
  {
   "cell_type": "code",
   "execution_count": 2,
   "id": "de903411",
   "metadata": {},
   "outputs": [],
   "source": [
    "def load_eeg_data(file_paths,freq_bands):\n",
    "    data = []\n",
    "    for path in tqdm(file_paths,desc=\"Loading EEG data\"):\n",
    "        raw = mne.io.read_raw_eeglab(path,preload=True)\n",
    "        raw.filter(0.5,40)   # Bandpass filter\n",
    "        psd, freqs = mne.time_frequency.psd_welch(raw, fmin=0.5, fmax=40)\n",
    "        band_powers = []\n",
    "        for band in freq_bands:\n",
    "            idx = (freqs >= bnad[0] & freqs <= band[1])\n",
    "            band_power = psd[:, idx].mean(axis=1)\n",
    "            band_powers.append(band_power)\n",
    "        data.append(np.concatenate(band_powers))\n",
    "    return np.array(data)\n",
    "        "
   ]
  },
  {
   "cell_type": "code",
   "execution_count": 3,
   "id": "c554dacd",
   "metadata": {},
   "outputs": [],
   "source": [
    "# Load participants labels\n",
    "def load_labels(participants_file):\n",
    "    df = read_csv(participants_file,sep='\\t')\n",
    "    labels = df['group'].map({'PD':1,'Control':0}).values\n",
    "    return labels\n",
    "\n",
    "# Define frequency bands\n",
    "freq_bands = [\n",
    "    (1,4),  # Delta\n",
    "    (4,8),  # Theta\n",
    "    (8,12), # Alpha\n",
    "    (12,30),# Beta\n",
    "    (30,50), # Low Gamma\n",
    "    (50,100) # High Gamma\n",
    "    ]"
   ]
  },
  {
   "cell_type": "code",
   "execution_count": 4,
   "id": "efdf0855",
   "metadata": {},
   "outputs": [
    {
     "name": "stderr",
     "output_type": "stream",
     "text": [
      "Loading EEG data:   0%|          | 0/149 [00:00<?, ?it/s]"
     ]
    },
    {
     "name": "stdout",
     "output_type": "stream",
     "text": [
      "Reading d:\\new project\\PD_&_EEG_Analysis\\Parkinson_disease-EEG_Data_Analysis\\ds004584-download\\sub-001\\eeg\\sub-001_task-Rest_eeg.fdt\n",
      "Reading 0 ... 140829  =      0.000 ...   281.658 secs...\n",
      "Filtering raw data in 1 contiguous segment\n",
      "Setting up band-pass filter from 0.5 - 40 Hz\n",
      "\n",
      "FIR filter parameters\n",
      "---------------------\n",
      "Designing a one-pass, zero-phase, non-causal bandpass filter:\n",
      "- Windowed time-domain design (firwin) method\n",
      "- Hamming window with 0.0194 passband ripple and 53 dB stopband attenuation\n",
      "- Lower passband edge: 0.50\n",
      "- Lower transition bandwidth: 0.50 Hz (-6 dB cutoff frequency: 0.25 Hz)\n",
      "- Upper passband edge: 40.00 Hz\n",
      "- Upper transition bandwidth: 10.00 Hz (-6 dB cutoff frequency: 45.00 Hz)\n",
      "- Filter length: 3301 samples (6.602 s)\n",
      "\n"
     ]
    },
    {
     "name": "stderr",
     "output_type": "stream",
     "text": [
      "C:\\Users\\mdmnb\\AppData\\Local\\Temp\\ipykernel_35624\\610458830.py:4: RuntimeWarning: The data contains 'boundary' events, indicating data discontinuities. Be cautious of filtering and epoching around these events.\n",
      "  raw = mne.io.read_raw_eeglab(path,preload=True)\n",
      "[Parallel(n_jobs=1)]: Done  17 tasks      | elapsed:    0.0s\n",
      "[Parallel(n_jobs=1)]: Done  63 out of  63 | elapsed:    0.1s finished\n",
      "Loading EEG data:   0%|          | 0/149 [00:00<?, ?it/s]\n"
     ]
    },
    {
     "ename": "AttributeError",
     "evalue": "No mne.time_frequency attribute psd_welch",
     "output_type": "error",
     "traceback": [
      "\u001b[31m---------------------------------------------------------------------------\u001b[39m",
      "\u001b[31mAttributeError\u001b[39m                            Traceback (most recent call last)",
      "\u001b[36mCell\u001b[39m\u001b[36m \u001b[39m\u001b[32mIn[4]\u001b[39m\u001b[32m, line 3\u001b[39m\n\u001b[32m      1\u001b[39m \u001b[38;5;66;03m# Load data\u001b[39;00m\n\u001b[32m      2\u001b[39m file_paths = \u001b[38;5;28mlist\u001b[39m(Path(\u001b[33m'\u001b[39m\u001b[33mds004584-download\u001b[39m\u001b[33m'\u001b[39m).glob(\u001b[33m'\u001b[39m\u001b[33m**/*.set\u001b[39m\u001b[33m'\u001b[39m))\n\u001b[32m----> \u001b[39m\u001b[32m3\u001b[39m x = \u001b[43mload_eeg_data\u001b[49m\u001b[43m(\u001b[49m\u001b[43mfile_paths\u001b[49m\u001b[43m,\u001b[49m\u001b[43mfreq_bands\u001b[49m\u001b[43m)\u001b[49m\n\u001b[32m      4\u001b[39m y = load_labels(\u001b[33m'\u001b[39m\u001b[33mds004584-download/participants.tsv\u001b[39m\u001b[33m'\u001b[39m)\n\u001b[32m      6\u001b[39m \u001b[38;5;66;03m# Split data\u001b[39;00m\n",
      "\u001b[36mCell\u001b[39m\u001b[36m \u001b[39m\u001b[32mIn[2]\u001b[39m\u001b[32m, line 6\u001b[39m, in \u001b[36mload_eeg_data\u001b[39m\u001b[34m(file_paths, freq_bands)\u001b[39m\n\u001b[32m      4\u001b[39m raw = mne.io.read_raw_eeglab(path,preload=\u001b[38;5;28;01mTrue\u001b[39;00m)\n\u001b[32m      5\u001b[39m raw.filter(\u001b[32m0.5\u001b[39m,\u001b[32m40\u001b[39m)   \u001b[38;5;66;03m# Bandpass filter\u001b[39;00m\n\u001b[32m----> \u001b[39m\u001b[32m6\u001b[39m psd, freqs = \u001b[43mmne\u001b[49m\u001b[43m.\u001b[49m\u001b[43mtime_frequency\u001b[49m\u001b[43m.\u001b[49m\u001b[43mpsd_welch\u001b[49m(raw, fmin=\u001b[32m0.5\u001b[39m, fmax=\u001b[32m40\u001b[39m)\n\u001b[32m      7\u001b[39m band_powers = []\n\u001b[32m      8\u001b[39m \u001b[38;5;28;01mfor\u001b[39;00m band \u001b[38;5;129;01min\u001b[39;00m freq_bands:\n",
      "\u001b[36mFile \u001b[39m\u001b[32md:\\new project\\PD_&_EEG_Analysis\\Parkinson_disease-EEG_Data_Analysis\\env\\Lib\\site-packages\\lazy_loader\\__init__.py:94\u001b[39m, in \u001b[36mattach.<locals>.__getattr__\u001b[39m\u001b[34m(name)\u001b[39m\n\u001b[32m     92\u001b[39m     \u001b[38;5;28;01mreturn\u001b[39;00m attr\n\u001b[32m     93\u001b[39m \u001b[38;5;28;01melse\u001b[39;00m:\n\u001b[32m---> \u001b[39m\u001b[32m94\u001b[39m     \u001b[38;5;28;01mraise\u001b[39;00m \u001b[38;5;167;01mAttributeError\u001b[39;00m(\u001b[33mf\u001b[39m\u001b[33m\"\u001b[39m\u001b[33mNo \u001b[39m\u001b[38;5;132;01m{\u001b[39;00mpackage_name\u001b[38;5;132;01m}\u001b[39;00m\u001b[33m attribute \u001b[39m\u001b[38;5;132;01m{\u001b[39;00mname\u001b[38;5;132;01m}\u001b[39;00m\u001b[33m\"\u001b[39m)\n",
      "\u001b[31mAttributeError\u001b[39m: No mne.time_frequency attribute psd_welch"
     ]
    }
   ],
   "source": [
    "# Load data\n",
    "file_paths = list(Path('ds004584-download').glob('**/*.set'))\n",
    "x = load_eeg_data(file_paths,freq_bands)\n",
    "y = load_labels('ds004584-download/participants.tsv')\n",
    "\n",
    "# Split data\n",
    "x_train, x_test,y_train,y_test = train_test_split(x,y,test_size=0.2,random_state=42, stratify=y)\n",
    "\n",
    "# Standardize data\n",
    "scaler = StandardScaler()\n",
    "x_train = scaler.fit_transform(x_train)\n",
    "x_test = scaler.transform(x_test)\n",
    "\n",
    "# Feature selection using fsrlearning\n",
    "fsrl = fsrlearning()\n",
    "selected_features = fsrl.fit(x_train,y_train)\n",
    "x_train_fsrl = x_train[:, selected_features]\n",
    "x_test_fsrl = x_test[:, selected_features]\n",
    "\n",
    "\n"
   ]
  },
  {
   "cell_type": "code",
   "execution_count": null,
   "id": "17b3ee5a",
   "metadata": {},
   "outputs": [],
   "source": []
  }
 ],
 "metadata": {
  "kernelspec": {
   "display_name": "env (3.12.7)",
   "language": "python",
   "name": "python3"
  },
  "language_info": {
   "codemirror_mode": {
    "name": "ipython",
    "version": 3
   },
   "file_extension": ".py",
   "mimetype": "text/x-python",
   "name": "python",
   "nbconvert_exporter": "python",
   "pygments_lexer": "ipython3",
   "version": "3.12.7"
  }
 },
 "nbformat": 4,
 "nbformat_minor": 5
}
