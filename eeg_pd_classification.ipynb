{
 "cells": [
  {
   "cell_type": "code",
   "execution_count": null,
   "id": "289dfc79",
   "metadata": {},
   "outputs": [],
   "source": [
    "import mne\n",
    "import pandas as pd\n",
    "import numpy as np \n",
    "from sklearn.model_selection import train_test_split\n",
    "from sklearn.preprocessing import StandardScaler\n",
    "from sklearn.metrics import accuracy_score,confusion_matrix,classification_report\n",
    "from sklearn.feature_selection import SelectKBest,f_classif,RFE  \n",
    "from sklearn.svm import SVC \n",
    "from keras.models import Sequential\n",
    "from keras.layers import Dense\n",
    "import matplotlib.pyplot as plt \n",
    "import seaborn as sns \n",
    "from FSRLearning import FSRL \n",
    "from pathlib import Path \n",
    "from tqdm import tqdm \n",
    "\n"
   ]
  }
 ],
 "metadata": {
  "language_info": {
   "name": "python"
  }
 },
 "nbformat": 4,
 "nbformat_minor": 5
}
