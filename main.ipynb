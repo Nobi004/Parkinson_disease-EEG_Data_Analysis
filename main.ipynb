{
 "cells": [
  {
   "cell_type": "code",
   "execution_count": 1,
   "id": "3dacdca0",
   "metadata": {},
   "outputs": [
    {
     "name": "stderr",
     "output_type": "stream",
     "text": [
      "d:\\new project\\PD_&_EEG_Analysis\\Parkinson_disease-EEG_Data_Analysis\\env\\Lib\\site-packages\\tqdm\\auto.py:21: TqdmWarning: IProgress not found. Please update jupyter and ipywidgets. See https://ipywidgets.readthedocs.io/en/stable/user_install.html\n",
      "  from .autonotebook import tqdm as notebook_tqdm\n"
     ]
    }
   ],
   "source": [
    "import os\n",
    "from pathlib import Path\n",
    "import scipy\n",
    "import matplotlib.pyplot as plt\n",
    "import numpy as np\n",
    "import mne\n",
    "from matplotlib import ticker\n",
    "from tqdm.auto import tqdm\n",
    "import textwrap\n",
    "from typing import Union, List\n",
    "from tqdm.auto import tqdm, trange\n",
    "import pandas as pd\n",
    "import numpy as np\n",
    "import seaborn as sns\n",
    "import warnings"
   ]
  },
  {
   "cell_type": "code",
   "execution_count": 2,
   "id": "6a95747b",
   "metadata": {},
   "outputs": [
    {
     "data": {
      "text/plain": [
       "<contextlib.ExitStack at 0x27c6bd86450>"
      ]
     },
     "execution_count": 2,
     "metadata": {},
     "output_type": "execute_result"
    }
   ],
   "source": [
    "notebook_journal = [ ] # This holds the notes for the models\n",
    "mne.set_log_level(\"ERROR\")\n",
    "plt.ioff()\n"
   ]
  },
  {
   "cell_type": "code",
   "execution_count": 4,
   "id": "857e1424",
   "metadata": {},
   "outputs": [],
   "source": [
    "def gather_all_setFile_paths():\n",
    "    return list(Path(\"/kaggle/input\").glob(\"**/*.set\"))\n",
    "\n",
    "def find_set_of_common_channels(filePaths):\n",
    "    for idx,filepath in tqdm(enumerate(filePaths),total=len(filePaths), desc=\"Finding the set of common channels\"):\n",
    "        raw = mne.io.read_raw_eeglab(filepath)\n",
    "        ch_names = raw.ch_names\n",
    "        if idx == 0 :\n",
    "            ch_names_holder = ch_names\n",
    "        else: \n",
    "            ch_names_holder = list(set(ch_names_holder) & set(ch_names))\n",
    "    return ch_names_holder"
   ]
  },
  {
   "cell_type": "code",
   "execution_count": 6,
   "id": "30b3e247",
   "metadata": {},
   "outputs": [],
   "source": [
    "def get_sub_info(subject_id:str) -> pd.DataFrame:\n",
    "    assert isinstance(subject_id,str),f\"The subject_id has to be a string, got{type(subject_id)}\"\n",
    "    path_sub_info = Path(\n",
    "        \"/kaggle/input\", \n",
    "        \"rest-eyes-open-parkinsons-disease-64-channel-eeg\", \n",
    "        \"ds004584-download\", \n",
    "        \"participants.tsv\")\n",
    "    df_sub_info = pd.read_csv(path_sub_info,sep='/t')\n",
    "    df_sub_info = df_sub_info[df_sub_info.participant_id ==str(subid)]\n",
    "    return df_sub_info\n",
    "\n",
    "def get_sub_data(sub_id:str) ->pd.DataFrame:\n",
    "    assert isinstance(subject_id, str), f\"The subject_id has to be a string, got {type(subject_id)}\"\n",
    "    \n",
    "    # Find the EEGLab set file\n",
    "    path_sub_dir = Path(\n",
    "        \"/kaggle/input\", \n",
    "        \"rest-eyes-open-parkinsons-disease-64-channel-eeg\", \n",
    "        \"ds004584-download\",\n",
    "        str(subject_id)\n",
    "    )\n",
    "    path_sub_set_file = list(path_sub_dir.glob(\"**/*\"))\n",
    "    if len(path_sub_set_file) > 1:\n",
    "        raise Exception(\"More than one set file is found\")\n",
    "    else:\n",
    "        path_sub_set_file = path_sub_set_file[0]\n",
    "        raw = mne.io.read_raweeglab(path_sub_set_file)\n",
    "        df_raw_eeg = pd.DataFrame(raw.get_data())\n",
    "        df_raw_eeg[\"channel_name\"] = raw.ch_names\n",
    "        df_raw_eeg = df_raw_eeg.set_index(\"channel_name\")\n",
    "        return df_raw_eeg"
   ]
  },
  {
   "cell_type": "code",
   "execution_count": 14,
   "id": "254de146",
   "metadata": {},
   "outputs": [],
   "source": [
    "def calculate_band_power(\n",
    "    filepath:Path,\n",
    "    channels:Union,\n",
    "    brain_wave_bands:dict=None) -> pd.DataFrame:\n",
    "\n",
    "    if brain_wave_bands is None:\n",
    "        brain_wave_bands=dict(\n",
    "            low_theta=(2,5),\n",
    "            high_theta=(6,9),\n",
    "            alpha=(10,15),\n",
    "            beta=(16,25),\n",
    "            low_gamma=(36,55),\n",
    "            high_gamma_1=(65,89),\n",
    "            high_gamma_2=(90,115)\n",
    "            )\n",
    "    raw = mne.io.read_raw_eeglab(filepath)\n",
    "    spectrum = raw.compute_psd(picks=channels,n_jobs=-1)\n",
    "    data,freqs = spectrum.get_data(return_freqs=True)\n",
    "    holder_stats=np.ndarray((data.shape[0],len(brain_wave_bands)))\n",
    "\n",
    "    for idx, (key,val) in enumerate(brain_wave_bands.items()):\n",
    "        low_bound,high_bound = val[0],val[1]\n",
    "        \n",
    "        indices = np.argwhere(\n",
    "            np.logical_and(\n",
    "                freqs >= low_bound,\n",
    "                freqs <= high_bound,\n",
    "                \n",
    "            )\n",
    "        )\n",
    "        holder_stats[:, idx] = np.sum(data[:, indices],axis=1).ravel()\n",
    "    assert holder_stats.shape == (data.shape[0], len(brain_wave_bounds)),\"Something is wrong.\"\n",
    "    df_stats = pd.DataFrame(holder_stats)\n",
    "    df_stats.columns = brain_wave_bounds.keys()\n",
    "    df_stats[\"channel_name\"] = channels\n",
    "    df_stats = df_stats.set_index(\"channel_name\")\n",
    "    return df_stats\n",
    "\n",
    "def create_df_band_power(filePaths:List[Path], channels:List[str]=None) -> pd.DataFrame:\n",
    "    if channels is None:\n",
    "        common_channels = find_set_of_common_channels(filePaths)\n",
    "    \n",
    "    holder_df = []\n",
    "    \n",
    "    for filepath in tqdm(filePath,total=len(filePaths),desc=\"Creating a dataframe of band powers\"):\n",
    "        df_band_power = calculate_band_power(filePaths,common_channels)\n",
    "        participant_id = filepath.stem[:7]\n",
    "        df_band_power[\"participant_id\"] = [participant_id] * df_band_power.shape[0]\n",
    "        df_band_power = df_band_power.reset_index()\n",
    "        df_band_power = df_band_power.set_index([\"participant_id\",\"channel_name\"])\n",
    "        holder_df.append(df_band_power)\n",
    "    \n",
    "    df_band_powers= pd.concat(holder_df)\n",
    "    \n",
    "    return df_band_powers\n",
    "    "
   ]
  },
  {
   "cell_type": "code",
   "execution_count": 13,
   "id": "c83647ba",
   "metadata": {},
   "outputs": [],
   "source": [
    "def create_df_sub_info() -> pd.DataFrame:\n",
    "    path_sub_info = Path(\n",
    "        \"/kaggle/input\", \n",
    "        \"rest-eyes-open-parkinsons-disease-64-channel-eeg\", \n",
    "        \"ds004584-download\", \n",
    "        \"participants.tsv\")\n",
    "    df_sub_info = pd.read_csv(path_sub_info,sep=\"/t\")\n",
    "    return df_sub_info\n",
    "\n",
    "def create_df_psd(filePaths:List[Path],channels:List[str]=None) -> pd.DataFrame:\n",
    "    if channels is None:\n",
    "        common_channels = find_set_of_common_channels(filePaths)\n",
    "    holder_df=[]\n",
    "    \n",
    "    for filepath in tqdm(filePaths, total=len(filePaths), desc=\"Creating DataFrame of PSD\"):\n",
    "        raw = mne.io.read_raw_eeglab(filepath)\n",
    "        spectrum = raw.compute_psd(picks=common_channels,n_jobs=-1)\n",
    "        data,freqs = spectrum.get_data(return_freqs=True)\n",
    "        participant_id = filepath.stem[:7]\n",
    "        df_psd= pd.DataFrame(data)\n",
    "        df_psd[\"channel_name\"] = common_channels\n",
    "        df_psd[\"participant_id\"] = participant_id\n",
    "        df_psd = df_psd.set_index([\"participant_id\",\"channel_name\"])\n",
    "        holder_df.append(df_psd)\n",
    "        \n",
    "    df_psd = pd.concat(holder_df)\n",
    "    return df_psd\n",
    "\n"
   ]
  },
  {
   "cell_type": "markdown",
   "id": "b08bc2ef",
   "metadata": {},
   "source": [
    "# EDA"
   ]
  },
  {
   "cell_type": "code",
   "execution_count": 15,
   "id": "f7a6f3e5",
   "metadata": {},
   "outputs": [],
   "source": [
    "# Getting all the paths to the EEGLab '.set' files\n",
    "filePaths = gather_all_setFile_paths()"
   ]
  },
  {
   "cell_type": "code",
   "execution_count": 16,
   "id": "0eb479c8",
   "metadata": {},
   "outputs": [
    {
     "ename": "IndexError",
     "evalue": "list index out of range",
     "output_type": "error",
     "traceback": [
      "\u001b[31m---------------------------------------------------------------------------\u001b[39m",
      "\u001b[31mIndexError\u001b[39m                                Traceback (most recent call last)",
      "\u001b[36mCell\u001b[39m\u001b[36m \u001b[39m\u001b[32mIn[16]\u001b[39m\u001b[32m, line 5\u001b[39m\n\u001b[32m      2\u001b[39m ith_path = \u001b[32m5\u001b[39m\n\u001b[32m      4\u001b[39m \u001b[38;5;66;03m## Extract and read the EEGLab set/fdt file\u001b[39;00m\n\u001b[32m----> \u001b[39m\u001b[32m5\u001b[39m filePath = \u001b[43mfilePaths\u001b[49m\u001b[43m[\u001b[49m\u001b[43mith_path\u001b[49m\u001b[43m]\u001b[49m\n\u001b[32m      6\u001b[39m rawEegLab = mne.io.read_raw_eeglab(filePath)\n\u001b[32m      8\u001b[39m \u001b[38;5;28mprint\u001b[39m(\u001b[33mf\u001b[39m\u001b[33m\"\u001b[39m\u001b[33mNumber of channels: \u001b[39m\u001b[38;5;132;01m{\u001b[39;00m\u001b[38;5;28mlen\u001b[39m(rawEegLab.ch_names)\u001b[38;5;132;01m}\u001b[39;00m\u001b[33m\"\u001b[39m)\n",
      "\u001b[31mIndexError\u001b[39m: list index out of range"
     ]
    }
   ],
   "source": [
    "# EDA\n",
    "ith_path = 5\n",
    "\n",
    "## Extract and read the EEGLab set/fdt file\n",
    "filePath = filePaths[ith_path]\n",
    "rawEegLab = mne.io.read_raw_eeglab(filePath)\n",
    "\n",
    "print(f\"Number of channels: {len(rawEegLab.ch_names)}\")\n",
    "print(f\"Number of time points: {rawEegLab.n_times}\")"
   ]
  },
  {
   "cell_type": "code",
   "execution_count": null,
   "id": "ee9cb682",
   "metadata": {},
   "outputs": [],
   "source": []
  }
 ],
 "metadata": {
  "kernelspec": {
   "display_name": "env",
   "language": "python",
   "name": "python3"
  },
  "language_info": {
   "codemirror_mode": {
    "name": "ipython",
    "version": 3
   },
   "file_extension": ".py",
   "mimetype": "text/x-python",
   "name": "python",
   "nbconvert_exporter": "python",
   "pygments_lexer": "ipython3",
   "version": "3.12.7"
  }
 },
 "nbformat": 4,
 "nbformat_minor": 5
}
